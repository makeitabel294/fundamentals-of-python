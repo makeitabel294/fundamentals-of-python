{
 "cells": [
  {
   "cell_type": "markdown",
   "metadata": {},
   "source": [
    "### variables\n"
   ]
  },
  {
   "cell_type": "code",
   "execution_count": 1,
   "metadata": {},
   "outputs": [
    {
     "name": "stdout",
     "output_type": "stream",
     "text": [
      "\n",
      "True\n",
      "<class 'bool'>\n"
     ]
    }
   ],
   "source": [
    "no = 100\n",
    "string = \"Addison\"\n",
    "boolean_value = True\n",
    "print()\n",
    "print(boolean_value)\n",
    "print(type(boolean_value))"
   ]
  },
  {
   "cell_type": "code",
   "execution_count": 2,
   "metadata": {},
   "outputs": [
    {
     "name": "stdout",
     "output_type": "stream",
     "text": [
      "bee 200 2.55\n"
     ]
    }
   ],
   "source": [
    "a= \"bee\"\n",
    "b= \"200\"\n",
    "c= str(2.55)\n",
    "print(a+' '+b+' '+c)"
   ]
  },
  {
   "cell_type": "code",
   "execution_count": 3,
   "metadata": {},
   "outputs": [
    {
     "name": "stdout",
     "output_type": "stream",
     "text": [
      "202.55\n"
     ]
    }
   ],
   "source": [
    "a= \"bee\"\n",
    "b= \"200\"\n",
    "c= str(2.55)\n",
    "print(float(b)+float(c))"
   ]
  },
  {
   "cell_type": "markdown",
   "metadata": {},
   "source": [
    "### looping"
   ]
  },
  {
   "cell_type": "code",
   "execution_count": 4,
   "metadata": {},
   "outputs": [
    {
     "name": "stdout",
     "output_type": "stream",
     "text": [
      "0:5\n",
      "1:6\n",
      "2:8\n",
      "3:11\n",
      "4:15\n"
     ]
    }
   ],
   "source": [
    "a=5\n",
    "for i in range(0,5,1):\n",
    "    a+=i\n",
    "    print(str(i) +\":\"+str(a))"
   ]
  },
  {
   "cell_type": "code",
   "execution_count": 5,
   "metadata": {},
   "outputs": [
    {
     "name": "stdout",
     "output_type": "stream",
     "text": [
      "0:5\n",
      "1:6\n",
      "2:8\n",
      "3:11\n",
      "4:15\n"
     ]
    }
   ],
   "source": [
    "a=5\n",
    "for i in range(0,5,1):\n",
    "    a=a+i\n",
    "    print(str(i) +\":\"+str(a))"
   ]
  },
  {
   "cell_type": "markdown",
   "metadata": {},
   "source": [
    "#### fibonacci sequence"
   ]
  },
  {
   "cell_type": "code",
   "execution_count": 6,
   "metadata": {},
   "outputs": [
    {
     "name": "stdout",
     "output_type": "stream",
     "text": [
      "0 1 1 2 3 5 8 13 21 34 55 89\n"
     ]
    }
   ],
   "source": [
    "print(\"0 1 1 2 3 5 8 13 21 34 55 89\")"
   ]
  },
  {
   "cell_type": "code",
   "execution_count": 7,
   "metadata": {},
   "outputs": [
    {
     "name": "stdout",
     "output_type": "stream",
     "text": [
      "0\n",
      "1\n",
      "1\n",
      "2\n",
      "3\n",
      "5\n",
      "8\n",
      "13\n",
      "21\n",
      "34\n",
      "55\n",
      "89\n",
      "144\n",
      "233\n",
      "377\n",
      "610\n",
      "987\n",
      "1597\n",
      "2584\n",
      "4181\n",
      "6765\n",
      "10946\n"
     ]
    }
   ],
   "source": [
    "num0 = 0\n",
    "num1 = 1\n",
    "print(num0)\n",
    "print(num1)\n",
    "for i in range(20):\n",
    "    temp = num1\n",
    "    num1 = num0 + num1\n",
    "    num0 = temp\n",
    "    print(num1)"
   ]
  },
  {
   "cell_type": "code",
   "execution_count": 8,
   "metadata": {},
   "outputs": [
    {
     "name": "stdout",
     "output_type": "stream",
     "text": [
      "0\n",
      "1\n",
      "2\n",
      "3\n",
      "4\n",
      "5\n",
      "6\n",
      "7\n",
      "8\n",
      "9\n",
      "10\n",
      "11\n",
      "12\n",
      "13\n",
      "14\n",
      "15\n",
      "16\n",
      "17\n",
      "18\n",
      "19\n",
      "20\n"
     ]
    }
   ],
   "source": [
    "n=0\n",
    "while(n<=20):\n",
    "    print(n)\n",
    "    n+=1"
   ]
  },
  {
   "cell_type": "code",
   "execution_count": 11,
   "metadata": {},
   "outputs": [
    {
     "name": "stdout",
     "output_type": "stream",
     "text": [
      "-30\n",
      "-25\n",
      "-20\n",
      "-15\n",
      "-10\n",
      "-5\n",
      "0\n"
     ]
    }
   ],
   "source": [
    "n=-30\n",
    "while(n<5):\n",
    "    print(n)\n",
    "    n+=5"
   ]
  },
  {
   "cell_type": "code",
   "execution_count": 13,
   "metadata": {},
   "outputs": [
    {
     "name": "stdout",
     "output_type": "stream",
     "text": [
      "0\n",
      "wtf\n",
      "2\n",
      "3\n",
      "4\n",
      "5\n",
      "6\n",
      "wtf\n",
      "8\n",
      "9\n",
      "10\n",
      "wtf\n",
      "12\n",
      "wtf\n",
      "14\n",
      "15\n",
      "16\n",
      "wtf\n",
      "18\n",
      "wtf\n",
      "20\n",
      "21\n",
      "22\n",
      "wtf\n",
      "24\n",
      "25\n",
      "26\n",
      "27\n",
      "28\n",
      "wtf\n",
      "30\n",
      "wtf\n",
      "32\n",
      "33\n",
      "34\n",
      "35\n",
      "36\n",
      "wtf\n",
      "38\n",
      "39\n",
      "40\n",
      "wtf\n",
      "42\n",
      "wtf\n",
      "44\n",
      "45\n",
      "46\n",
      "wtf\n",
      "48\n",
      "wtf\n",
      "50\n",
      "51\n",
      "52\n",
      "wtf\n",
      "54\n",
      "55\n",
      "56\n",
      "57\n",
      "58\n",
      "wtf\n",
      "60\n",
      "wtf\n",
      "62\n",
      "63\n",
      "64\n",
      "65\n",
      "66\n",
      "wtf\n",
      "68\n",
      "69\n",
      "70\n",
      "wtf\n",
      "72\n",
      "wtf\n",
      "74\n",
      "75\n",
      "76\n",
      "wtf\n",
      "78\n",
      "wtf\n",
      "80\n",
      "81\n",
      "82\n",
      "wtf\n",
      "84\n",
      "85\n",
      "86\n",
      "87\n",
      "88\n",
      "wtf\n",
      "90\n",
      "wtf\n",
      "92\n",
      "93\n",
      "94\n",
      "95\n",
      "96\n",
      "wtf\n",
      "98\n",
      "99\n",
      "100\n",
      "wtf\n",
      "102\n",
      "wtf\n",
      "104\n",
      "105\n",
      "106\n",
      "wtf\n",
      "108\n",
      "wtf\n",
      "110\n",
      "111\n",
      "112\n",
      "wtf\n",
      "114\n",
      "115\n",
      "116\n",
      "117\n",
      "118\n",
      "wtf\n",
      "120\n",
      "wtf\n",
      "122\n",
      "123\n",
      "124\n",
      "125\n",
      "126\n",
      "wtf\n",
      "128\n",
      "129\n",
      "130\n",
      "wtf\n",
      "132\n",
      "wtf\n",
      "134\n",
      "135\n",
      "136\n",
      "wtf\n",
      "138\n",
      "wtf\n",
      "140\n",
      "141\n",
      "142\n",
      "wtf\n",
      "144\n",
      "145\n",
      "146\n",
      "147\n",
      "148\n",
      "wtf\n",
      "150\n",
      "wtf\n",
      "152\n",
      "153\n",
      "154\n",
      "155\n",
      "156\n",
      "wtf\n",
      "158\n",
      "159\n",
      "160\n",
      "wtf\n",
      "162\n",
      "wtf\n",
      "164\n",
      "165\n",
      "166\n",
      "wtf\n",
      "168\n",
      "wtf\n",
      "170\n",
      "171\n",
      "172\n",
      "wtf\n",
      "174\n",
      "175\n",
      "176\n",
      "177\n",
      "178\n",
      "wtf\n",
      "180\n",
      "wtf\n",
      "182\n",
      "183\n",
      "184\n",
      "185\n",
      "186\n",
      "wtf\n",
      "188\n",
      "189\n",
      "190\n",
      "wtf\n",
      "192\n",
      "wtf\n",
      "194\n",
      "195\n",
      "196\n",
      "wtf\n",
      "198\n",
      "wtf\n",
      "200\n"
     ]
    }
   ],
   "source": [
    "n = 0\n",
    "while(n<=200): # n (-inf, 20] -> True ## n=(20, inf) -> False\n",
    "    \n",
    "    if (n%2)==0:\n",
    "        print(n)\n",
    "    elif(n%3)==0:\n",
    "        print(n)\n",
    "    elif(n%5)==0:\n",
    "        print(n)\n",
    "    else:\n",
    "        print(\"wtf\")\n",
    "    n+=1"
   ]
  },
  {
   "cell_type": "code",
   "execution_count": null,
   "metadata": {},
   "outputs": [],
   "source": []
  }
 ],
 "metadata": {
  "kernelspec": {
   "display_name": "Python 3",
   "language": "python",
   "name": "python3"
  },
  "language_info": {
   "codemirror_mode": {
    "name": "ipython",
    "version": 3
   },
   "file_extension": ".py",
   "mimetype": "text/x-python",
   "name": "python",
   "nbconvert_exporter": "python",
   "pygments_lexer": "ipython3",
   "version": "3.7.4"
  }
 },
 "nbformat": 4,
 "nbformat_minor": 2
}
